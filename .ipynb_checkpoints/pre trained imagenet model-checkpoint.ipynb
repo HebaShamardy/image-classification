{
 "cells": [
  {
   "cell_type": "code",
   "execution_count": 65,
   "metadata": {},
   "outputs": [],
   "source": [
    "# loading weights from image net\n",
    "from keras.applications import VGG16\n",
    "from keras.preprocessing.image import ImageDataGenerator\n",
    "import numpy as np"
   ]
  },
  {
   "cell_type": "code",
   "execution_count": 66,
   "metadata": {},
   "outputs": [],
   "source": [
    "vgg_conv = VGG16(weights='imagenet',include_top=False, input_shape=(64, 64, 3))"
   ]
  },
  {
   "cell_type": "code",
   "execution_count": 67,
   "metadata": {},
   "outputs": [],
   "source": [
    "train_dir = 'input_data/training'\n",
    "validation_dir = 'input_data/test'\n",
    " \n",
    "nTrain = 5161\n",
    "nVal = 2023"
   ]
  },
  {
   "cell_type": "code",
   "execution_count": 71,
   "metadata": {},
   "outputs": [
    {
     "name": "stdout",
     "output_type": "stream",
     "text": [
      "Found 5161 images belonging to 2 classes.\n"
     ]
    }
   ],
   "source": [
    "datagen = ImageDataGenerator(rescale=1./255)\n",
    "batch_size = 32\n",
    " \n",
    "train_features = np.zeros(shape=(nTrain, 2, 2, 512))\n",
    "train_labels = np.zeros(shape=(nTrain))\n",
    " \n",
    "train_generator = datagen.flow_from_directory(\n",
    "    train_dir,\n",
    "    target_size = (64, 64),\n",
    "    batch_size = 32,\n",
    "    class_mode = 'binary')"
   ]
  },
  {
   "cell_type": "code",
   "execution_count": 72,
   "metadata": {},
   "outputs": [],
   "source": [
    "nImages = nTrain + nVal"
   ]
  },
  {
   "cell_type": "code",
   "execution_count": null,
   "metadata": {},
   "outputs": [
    {
     "name": "stdout",
     "output_type": "stream",
     "text": [
      "1 7184\n",
      "2 7184\n",
      "3 7184\n",
      "4 7184\n",
      "5 7184\n",
      "6 7184\n",
      "7 7184\n",
      "8 7184\n",
      "9 7184\n",
      "10 7184\n",
      "11 7184\n",
      "12 7184\n",
      "13 7184\n",
      "14 7184\n",
      "15 7184\n",
      "16 7184\n",
      "17 7184\n",
      "18 7184\n",
      "19 7184\n",
      "20 7184\n",
      "21 7184\n",
      "22 7184\n",
      "23 7184\n",
      "24 7184\n",
      "25 7184\n",
      "26 7184\n",
      "27 7184\n",
      "28 7184\n",
      "29 7184\n",
      "30 7184\n",
      "31 7184\n",
      "32 7184\n",
      "33 7184\n",
      "34 7184\n",
      "35 7184\n",
      "36 7184\n",
      "37 7184\n",
      "38 7184\n",
      "39 7184\n",
      "40 7184\n",
      "41 7184\n",
      "42 7184\n",
      "43 7184\n",
      "44 7184\n",
      "45 7184\n",
      "46 7184\n",
      "47 7184\n",
      "48 7184\n"
     ]
    }
   ],
   "source": [
    "i = 0\n",
    "for inputs_batch, labels_batch in train_generator:\n",
    "    features_batch = vgg_conv.predict(inputs_batch)\n",
    "    train_features[i * batch_size : (i + 1) * batch_size] = features_batch\n",
    "    train_labels[i * batch_size : (i + 1) * batch_size] = labels_batch\n",
    "    i += 1\n",
    "    print(i , nImages)\n",
    "    if i * batch_size >= nImages:\n",
    "        break\n",
    "         \n",
    "train_features = np.reshape(train_features, (nTrain, 2 * 2 * 512))"
   ]
  },
  {
   "cell_type": "code",
   "execution_count": null,
   "metadata": {},
   "outputs": [],
   "source": [
    "fnames = validation_generator.filenames\n",
    " \n",
    "ground_truth = validation_generator.classes\n",
    " \n",
    "label2index = validation_generator.class_indices\n",
    " \n",
    "# Getting the mapping from class index to class label\n",
    "idx2label = dict((v,k) for k,v in label2index.iteritems())\n",
    " \n",
    "predictions = model.predict_classes(validation_features)\n",
    "prob = model.predict(validation_features)\n",
    " \n",
    "errors = np.where(predictions != ground_truth)[0]\n",
    "print(\"No of errors = {}/{}\".format(len(errors),nVal))"
   ]
  }
 ],
 "metadata": {
  "kernelspec": {
   "display_name": "Python 3",
   "language": "python",
   "name": "python3"
  },
  "language_info": {
   "codemirror_mode": {
    "name": "ipython",
    "version": 3
   },
   "file_extension": ".py",
   "mimetype": "text/x-python",
   "name": "python",
   "nbconvert_exporter": "python",
   "pygments_lexer": "ipython3",
   "version": "3.6.4"
  }
 },
 "nbformat": 4,
 "nbformat_minor": 2
}
